{
 "cells": [
  {
   "cell_type": "markdown",
   "metadata": {},
   "source": [
    "# Load JSON\n",
    "\n",
    "We've collected a bunch of event data from the GitHub Archive that we need to load into Spark.\n",
    "Currently we're just operating on data from the month of January, 2015."
   ]
  },
  {
   "cell_type": "code",
   "execution_count": 1,
   "metadata": {
    "collapsed": false
   },
   "outputs": [],
   "source": [
    "import pyspark\n",
    "sc = pyspark.SparkContext('local[*]')"
   ]
  },
  {
   "cell_type": "code",
   "execution_count": 2,
   "metadata": {
    "collapsed": false
   },
   "outputs": [],
   "source": [
    "from pyspark.sql import SQLContext\n",
    "sql = SQLContext(sc)"
   ]
  },
  {
   "cell_type": "code",
   "execution_count": 3,
   "metadata": {
    "collapsed": true
   },
   "outputs": [],
   "source": [
    "janData = sql.read.json(\"../data/january.json\")"
   ]
  },
  {
   "cell_type": "code",
   "execution_count": 4,
   "metadata": {
    "collapsed": false,
    "scrolled": true
   },
   "outputs": [
    {
     "name": "stdout",
     "output_type": "stream",
     "text": [
      "root\n",
      " |-- actor: struct (nullable = true)\n",
      " |    |-- avatar_url: string (nullable = true)\n",
      " |    |-- gravatar_id: string (nullable = true)\n",
      " |    |-- id: long (nullable = true)\n",
      " |    |-- login: string (nullable = true)\n",
      " |    |-- url: string (nullable = true)\n",
      " |-- created_at: string (nullable = true)\n",
      " |-- id: string (nullable = true)\n",
      " |-- org: struct (nullable = true)\n",
      " |    |-- avatar_url: string (nullable = true)\n",
      " |    |-- gravatar_id: string (nullable = true)\n",
      " |    |-- id: long (nullable = true)\n",
      " |    |-- login: string (nullable = true)\n",
      " |    |-- url: string (nullable = true)\n",
      " |-- payload: struct (nullable = true)\n",
      " |    |-- action: string (nullable = true)\n",
      " |    |-- before: string (nullable = true)\n",
      " |    |-- comment: struct (nullable = true)\n",
      " |    |    |-- _links: struct (nullable = true)\n",
      " |    |    |    |-- html: struct (nullable = true)\n",
      " |    |    |    |    |-- href: string (nullable = true)\n",
      " |    |    |    |-- pull_request: struct (nullable = true)\n",
      " |    |    |    |    |-- href: string (nullable = true)\n",
      " |    |    |    |-- self: struct (nullable = true)\n",
      " |    |    |    |    |-- href: string (nullable = true)\n",
      " |    |    |-- body: string (nullable = true)\n",
      " |    |    |-- commit_id: string (nullable = true)\n",
      " |    |    |-- created_at: string (nullable = true)\n",
      " |    |    |-- diff_hunk: string (nullable = true)\n",
      " |    |    |-- html_url: string (nullable = true)\n",
      " |    |    |-- id: long (nullable = true)\n",
      " |    |    |-- issue_url: string (nullable = true)\n",
      " |    |    |-- line: long (nullable = true)\n",
      " |    |    |-- original_commit_id: string (nullable = true)\n",
      " |    |    |-- original_position: long (nullable = true)\n",
      " |    |    |-- path: string (nullable = true)\n",
      " |    |    |-- position: long (nullable = true)\n",
      " |    |    |-- pull_request_url: string (nullable = true)\n",
      " |    |    |-- updated_at: string (nullable = true)\n",
      " |    |    |-- url: string (nullable = true)\n",
      " |    |    |-- user: struct (nullable = true)\n",
      " |    |    |    |-- avatar_url: string (nullable = true)\n",
      " |    |    |    |-- events_url: string (nullable = true)\n",
      " |    |    |    |-- followers_url: string (nullable = true)\n",
      " |    |    |    |-- following_url: string (nullable = true)\n",
      " |    |    |    |-- gists_url: string (nullable = true)\n",
      " |    |    |    |-- gravatar_id: string (nullable = true)\n",
      " |    |    |    |-- html_url: string (nullable = true)\n",
      " |    |    |    |-- id: long (nullable = true)\n",
      " |    |    |    |-- login: string (nullable = true)\n",
      " |    |    |    |-- organizations_url: string (nullable = true)\n",
      " |    |    |    |-- received_events_url: string (nullable = true)\n",
      " |    |    |    |-- repos_url: string (nullable = true)\n",
      " |    |    |    |-- site_admin: boolean (nullable = true)\n",
      " |    |    |    |-- starred_url: string (nullable = true)\n",
      " |    |    |    |-- subscriptions_url: string (nullable = true)\n",
      " |    |    |    |-- type: string (nullable = true)\n",
      " |    |    |    |-- url: string (nullable = true)\n",
      " |    |-- commits: array (nullable = true)\n",
      " |    |    |-- element: struct (containsNull = true)\n",
      " |    |    |    |-- author: struct (nullable = true)\n",
      " |    |    |    |    |-- email: string (nullable = true)\n",
      " |    |    |    |    |-- name: string (nullable = true)\n",
      " |    |    |    |-- distinct: boolean (nullable = true)\n",
      " |    |    |    |-- message: string (nullable = true)\n",
      " |    |    |    |-- sha: string (nullable = true)\n",
      " |    |    |    |-- url: string (nullable = true)\n",
      " |    |-- description: string (nullable = true)\n",
      " |    |-- distinct_size: long (nullable = true)\n",
      " |    |-- forkee: struct (nullable = true)\n",
      " |    |    |-- archive_url: string (nullable = true)\n",
      " |    |    |-- assignees_url: string (nullable = true)\n",
      " |    |    |-- blobs_url: string (nullable = true)\n",
      " |    |    |-- branches_url: string (nullable = true)\n",
      " |    |    |-- clone_url: string (nullable = true)\n",
      " |    |    |-- collaborators_url: string (nullable = true)\n",
      " |    |    |-- comments_url: string (nullable = true)\n",
      " |    |    |-- commits_url: string (nullable = true)\n",
      " |    |    |-- compare_url: string (nullable = true)\n",
      " |    |    |-- contents_url: string (nullable = true)\n",
      " |    |    |-- contributors_url: string (nullable = true)\n",
      " |    |    |-- created_at: string (nullable = true)\n",
      " |    |    |-- default_branch: string (nullable = true)\n",
      " |    |    |-- description: string (nullable = true)\n",
      " |    |    |-- downloads_url: string (nullable = true)\n",
      " |    |    |-- events_url: string (nullable = true)\n",
      " |    |    |-- fork: boolean (nullable = true)\n",
      " |    |    |-- forks: long (nullable = true)\n",
      " |    |    |-- forks_count: long (nullable = true)\n",
      " |    |    |-- forks_url: string (nullable = true)\n",
      " |    |    |-- full_name: string (nullable = true)\n",
      " |    |    |-- git_commits_url: string (nullable = true)\n",
      " |    |    |-- git_refs_url: string (nullable = true)\n",
      " |    |    |-- git_tags_url: string (nullable = true)\n",
      " |    |    |-- git_url: string (nullable = true)\n",
      " |    |    |-- has_downloads: boolean (nullable = true)\n",
      " |    |    |-- has_issues: boolean (nullable = true)\n",
      " |    |    |-- has_pages: boolean (nullable = true)\n",
      " |    |    |-- has_wiki: boolean (nullable = true)\n",
      " |    |    |-- homepage: string (nullable = true)\n",
      " |    |    |-- hooks_url: string (nullable = true)\n",
      " |    |    |-- html_url: string (nullable = true)\n",
      " |    |    |-- id: long (nullable = true)\n",
      " |    |    |-- issue_comment_url: string (nullable = true)\n",
      " |    |    |-- issue_events_url: string (nullable = true)\n",
      " |    |    |-- issues_url: string (nullable = true)\n",
      " |    |    |-- keys_url: string (nullable = true)\n",
      " |    |    |-- labels_url: string (nullable = true)\n",
      " |    |    |-- language: string (nullable = true)\n",
      " |    |    |-- languages_url: string (nullable = true)\n",
      " |    |    |-- merges_url: string (nullable = true)\n",
      " |    |    |-- milestones_url: string (nullable = true)\n",
      " |    |    |-- mirror_url: string (nullable = true)\n",
      " |    |    |-- name: string (nullable = true)\n",
      " |    |    |-- notifications_url: string (nullable = true)\n",
      " |    |    |-- open_issues: long (nullable = true)\n",
      " |    |    |-- open_issues_count: long (nullable = true)\n",
      " |    |    |-- owner: struct (nullable = true)\n",
      " |    |    |    |-- avatar_url: string (nullable = true)\n",
      " |    |    |    |-- events_url: string (nullable = true)\n",
      " |    |    |    |-- followers_url: string (nullable = true)\n",
      " |    |    |    |-- following_url: string (nullable = true)\n",
      " |    |    |    |-- gists_url: string (nullable = true)\n",
      " |    |    |    |-- gravatar_id: string (nullable = true)\n",
      " |    |    |    |-- html_url: string (nullable = true)\n",
      " |    |    |    |-- id: long (nullable = true)\n",
      " |    |    |    |-- login: string (nullable = true)\n",
      " |    |    |    |-- organizations_url: string (nullable = true)\n",
      " |    |    |    |-- received_events_url: string (nullable = true)\n",
      " |    |    |    |-- repos_url: string (nullable = true)\n",
      " |    |    |    |-- site_admin: boolean (nullable = true)\n",
      " |    |    |    |-- starred_url: string (nullable = true)\n",
      " |    |    |    |-- subscriptions_url: string (nullable = true)\n",
      " |    |    |    |-- type: string (nullable = true)\n",
      " |    |    |    |-- url: string (nullable = true)\n",
      " |    |    |-- private: boolean (nullable = true)\n",
      " |    |    |-- public: boolean (nullable = true)\n",
      " |    |    |-- pulls_url: string (nullable = true)\n",
      " |    |    |-- pushed_at: string (nullable = true)\n",
      " |    |    |-- releases_url: string (nullable = true)\n",
      " |    |    |-- size: long (nullable = true)\n",
      " |    |    |-- ssh_url: string (nullable = true)\n",
      " |    |    |-- stargazers_count: long (nullable = true)\n",
      " |    |    |-- stargazers_url: string (nullable = true)\n",
      " |    |    |-- statuses_url: string (nullable = true)\n",
      " |    |    |-- subscribers_url: string (nullable = true)\n",
      " |    |    |-- subscription_url: string (nullable = true)\n",
      " |    |    |-- svn_url: string (nullable = true)\n",
      " |    |    |-- tags_url: string (nullable = true)\n",
      " |    |    |-- teams_url: string (nullable = true)\n",
      " |    |    |-- trees_url: string (nullable = true)\n",
      " |    |    |-- updated_at: string (nullable = true)\n",
      " |    |    |-- url: string (nullable = true)\n",
      " |    |    |-- watchers: long (nullable = true)\n",
      " |    |    |-- watchers_count: long (nullable = true)\n",
      " |    |-- head: string (nullable = true)\n",
      " |    |-- issue: struct (nullable = true)\n",
      " |    |    |-- assignee: struct (nullable = true)\n",
      " |    |    |    |-- avatar_url: string (nullable = true)\n",
      " |    |    |    |-- events_url: string (nullable = true)\n",
      " |    |    |    |-- followers_url: string (nullable = true)\n",
      " |    |    |    |-- following_url: string (nullable = true)\n",
      " |    |    |    |-- gists_url: string (nullable = true)\n",
      " |    |    |    |-- gravatar_id: string (nullable = true)\n",
      " |    |    |    |-- html_url: string (nullable = true)\n",
      " |    |    |    |-- id: long (nullable = true)\n",
      " |    |    |    |-- login: string (nullable = true)\n",
      " |    |    |    |-- organizations_url: string (nullable = true)\n",
      " |    |    |    |-- received_events_url: string (nullable = true)\n",
      " |    |    |    |-- repos_url: string (nullable = true)\n",
      " |    |    |    |-- site_admin: boolean (nullable = true)\n",
      " |    |    |    |-- starred_url: string (nullable = true)\n",
      " |    |    |    |-- subscriptions_url: string (nullable = true)\n",
      " |    |    |    |-- type: string (nullable = true)\n",
      " |    |    |    |-- url: string (nullable = true)\n",
      " |    |    |-- body: string (nullable = true)\n",
      " |    |    |-- closed_at: string (nullable = true)\n",
      " |    |    |-- comments: long (nullable = true)\n",
      " |    |    |-- comments_url: string (nullable = true)\n",
      " |    |    |-- created_at: string (nullable = true)\n",
      " |    |    |-- events_url: string (nullable = true)\n",
      " |    |    |-- html_url: string (nullable = true)\n",
      " |    |    |-- id: long (nullable = true)\n",
      " |    |    |-- labels: array (nullable = true)\n",
      " |    |    |    |-- element: struct (containsNull = true)\n",
      " |    |    |    |    |-- color: string (nullable = true)\n",
      " |    |    |    |    |-- name: string (nullable = true)\n",
      " |    |    |    |    |-- url: string (nullable = true)\n",
      " |    |    |-- labels_url: string (nullable = true)\n",
      " |    |    |-- locked: boolean (nullable = true)\n",
      " |    |    |-- milestone: struct (nullable = true)\n",
      " |    |    |    |-- closed_at: string (nullable = true)\n",
      " |    |    |    |-- closed_issues: long (nullable = true)\n",
      " |    |    |    |-- created_at: string (nullable = true)\n",
      " |    |    |    |-- creator: struct (nullable = true)\n",
      " |    |    |    |    |-- avatar_url: string (nullable = true)\n",
      " |    |    |    |    |-- events_url: string (nullable = true)\n",
      " |    |    |    |    |-- followers_url: string (nullable = true)\n",
      " |    |    |    |    |-- following_url: string (nullable = true)\n",
      " |    |    |    |    |-- gists_url: string (nullable = true)\n",
      " |    |    |    |    |-- gravatar_id: string (nullable = true)\n",
      " |    |    |    |    |-- html_url: string (nullable = true)\n",
      " |    |    |    |    |-- id: long (nullable = true)\n",
      " |    |    |    |    |-- login: string (nullable = true)\n",
      " |    |    |    |    |-- organizations_url: string (nullable = true)\n",
      " |    |    |    |    |-- received_events_url: string (nullable = true)\n",
      " |    |    |    |    |-- repos_url: string (nullable = true)\n",
      " |    |    |    |    |-- site_admin: boolean (nullable = true)\n",
      " |    |    |    |    |-- starred_url: string (nullable = true)\n",
      " |    |    |    |    |-- subscriptions_url: string (nullable = true)\n",
      " |    |    |    |    |-- type: string (nullable = true)\n",
      " |    |    |    |    |-- url: string (nullable = true)\n",
      " |    |    |    |-- description: string (nullable = true)\n",
      " |    |    |    |-- due_on: string (nullable = true)\n",
      " |    |    |    |-- id: long (nullable = true)\n",
      " |    |    |    |-- labels_url: string (nullable = true)\n",
      " |    |    |    |-- number: long (nullable = true)\n",
      " |    |    |    |-- open_issues: long (nullable = true)\n",
      " |    |    |    |-- state: string (nullable = true)\n",
      " |    |    |    |-- title: string (nullable = true)\n",
      " |    |    |    |-- updated_at: string (nullable = true)\n",
      " |    |    |    |-- url: string (nullable = true)\n",
      " |    |    |-- number: long (nullable = true)\n",
      " |    |    |-- pull_request: struct (nullable = true)\n",
      " |    |    |    |-- diff_url: string (nullable = true)\n",
      " |    |    |    |-- html_url: string (nullable = true)\n",
      " |    |    |    |-- patch_url: string (nullable = true)\n",
      " |    |    |    |-- url: string (nullable = true)\n",
      " |    |    |-- state: string (nullable = true)\n",
      " |    |    |-- title: string (nullable = true)\n",
      " |    |    |-- updated_at: string (nullable = true)\n",
      " |    |    |-- url: string (nullable = true)\n",
      " |    |    |-- user: struct (nullable = true)\n",
      " |    |    |    |-- avatar_url: string (nullable = true)\n",
      " |    |    |    |-- events_url: string (nullable = true)\n",
      " |    |    |    |-- followers_url: string (nullable = true)\n",
      " |    |    |    |-- following_url: string (nullable = true)\n",
      " |    |    |    |-- gists_url: string (nullable = true)\n",
      " |    |    |    |-- gravatar_id: string (nullable = true)\n",
      " |    |    |    |-- html_url: string (nullable = true)\n",
      " |    |    |    |-- id: long (nullable = true)\n",
      " |    |    |    |-- login: string (nullable = true)\n",
      " |    |    |    |-- organizations_url: string (nullable = true)\n",
      " |    |    |    |-- received_events_url: string (nullable = true)\n",
      " |    |    |    |-- repos_url: string (nullable = true)\n",
      " |    |    |    |-- site_admin: boolean (nullable = true)\n",
      " |    |    |    |-- starred_url: string (nullable = true)\n",
      " |    |    |    |-- subscriptions_url: string (nullable = true)\n",
      " |    |    |    |-- type: string (nullable = true)\n",
      " |    |    |    |-- url: string (nullable = true)\n",
      " |    |-- master_branch: string (nullable = true)\n",
      " |    |-- member: struct (nullable = true)\n",
      " |    |    |-- avatar_url: string (nullable = true)\n",
      " |    |    |-- events_url: string (nullable = true)\n",
      " |    |    |-- followers_url: string (nullable = true)\n",
      " |    |    |-- following_url: string (nullable = true)\n",
      " |    |    |-- gists_url: string (nullable = true)\n",
      " |    |    |-- gravatar_id: string (nullable = true)\n",
      " |    |    |-- html_url: string (nullable = true)\n",
      " |    |    |-- id: long (nullable = true)\n",
      " |    |    |-- login: string (nullable = true)\n",
      " |    |    |-- organizations_url: string (nullable = true)\n",
      " |    |    |-- received_events_url: string (nullable = true)\n",
      " |    |    |-- repos_url: string (nullable = true)\n",
      " |    |    |-- site_admin: boolean (nullable = true)\n",
      " |    |    |-- starred_url: string (nullable = true)\n",
      " |    |    |-- subscriptions_url: string (nullable = true)\n",
      " |    |    |-- type: string (nullable = true)\n",
      " |    |    |-- url: string (nullable = true)\n",
      " |    |-- number: long (nullable = true)\n",
      " |    |-- pages: array (nullable = true)\n",
      " |    |    |-- element: struct (containsNull = true)\n",
      " |    |    |    |-- action: string (nullable = true)\n",
      " |    |    |    |-- html_url: string (nullable = true)\n",
      " |    |    |    |-- page_name: string (nullable = true)\n",
      " |    |    |    |-- sha: string (nullable = true)\n",
      " |    |    |    |-- summary: string (nullable = true)\n",
      " |    |    |    |-- title: string (nullable = true)\n",
      " |    |-- pull_request: struct (nullable = true)\n",
      " |    |    |-- _links: struct (nullable = true)\n",
      " |    |    |    |-- comments: struct (nullable = true)\n",
      " |    |    |    |    |-- href: string (nullable = true)\n",
      " |    |    |    |-- commits: struct (nullable = true)\n",
      " |    |    |    |    |-- href: string (nullable = true)\n",
      " |    |    |    |-- html: struct (nullable = true)\n",
      " |    |    |    |    |-- href: string (nullable = true)\n",
      " |    |    |    |-- issue: struct (nullable = true)\n",
      " |    |    |    |    |-- href: string (nullable = true)\n",
      " |    |    |    |-- review_comment: struct (nullable = true)\n",
      " |    |    |    |    |-- href: string (nullable = true)\n",
      " |    |    |    |-- review_comments: struct (nullable = true)\n",
      " |    |    |    |    |-- href: string (nullable = true)\n",
      " |    |    |    |-- self: struct (nullable = true)\n",
      " |    |    |    |    |-- href: string (nullable = true)\n",
      " |    |    |    |-- statuses: struct (nullable = true)\n",
      " |    |    |    |    |-- href: string (nullable = true)\n",
      " |    |    |-- additions: long (nullable = true)\n",
      " |    |    |-- assignee: struct (nullable = true)\n",
      " |    |    |    |-- avatar_url: string (nullable = true)\n",
      " |    |    |    |-- events_url: string (nullable = true)\n",
      " |    |    |    |-- followers_url: string (nullable = true)\n",
      " |    |    |    |-- following_url: string (nullable = true)\n",
      " |    |    |    |-- gists_url: string (nullable = true)\n",
      " |    |    |    |-- gravatar_id: string (nullable = true)\n",
      " |    |    |    |-- html_url: string (nullable = true)\n",
      " |    |    |    |-- id: long (nullable = true)\n",
      " |    |    |    |-- login: string (nullable = true)\n",
      " |    |    |    |-- organizations_url: string (nullable = true)\n",
      " |    |    |    |-- received_events_url: string (nullable = true)\n",
      " |    |    |    |-- repos_url: string (nullable = true)\n",
      " |    |    |    |-- site_admin: boolean (nullable = true)\n",
      " |    |    |    |-- starred_url: string (nullable = true)\n",
      " |    |    |    |-- subscriptions_url: string (nullable = true)\n",
      " |    |    |    |-- type: string (nullable = true)\n",
      " |    |    |    |-- url: string (nullable = true)\n",
      " |    |    |-- base: struct (nullable = true)\n",
      " |    |    |    |-- label: string (nullable = true)\n",
      " |    |    |    |-- ref: string (nullable = true)\n",
      " |    |    |    |-- repo: struct (nullable = true)\n",
      " |    |    |    |    |-- archive_url: string (nullable = true)\n",
      " |    |    |    |    |-- assignees_url: string (nullable = true)\n",
      " |    |    |    |    |-- blobs_url: string (nullable = true)\n",
      " |    |    |    |    |-- branches_url: string (nullable = true)\n",
      " |    |    |    |    |-- clone_url: string (nullable = true)\n",
      " |    |    |    |    |-- collaborators_url: string (nullable = true)\n",
      " |    |    |    |    |-- comments_url: string (nullable = true)\n",
      " |    |    |    |    |-- commits_url: string (nullable = true)\n",
      " |    |    |    |    |-- compare_url: string (nullable = true)\n",
      " |    |    |    |    |-- contents_url: string (nullable = true)\n",
      " |    |    |    |    |-- contributors_url: string (nullable = true)\n",
      " |    |    |    |    |-- created_at: string (nullable = true)\n",
      " |    |    |    |    |-- default_branch: string (nullable = true)\n",
      " |    |    |    |    |-- description: string (nullable = true)\n",
      " |    |    |    |    |-- downloads_url: string (nullable = true)\n",
      " |    |    |    |    |-- events_url: string (nullable = true)\n",
      " |    |    |    |    |-- fork: boolean (nullable = true)\n",
      " |    |    |    |    |-- forks: long (nullable = true)\n",
      " |    |    |    |    |-- forks_count: long (nullable = true)\n",
      " |    |    |    |    |-- forks_url: string (nullable = true)\n",
      " |    |    |    |    |-- full_name: string (nullable = true)\n",
      " |    |    |    |    |-- git_commits_url: string (nullable = true)\n",
      " |    |    |    |    |-- git_refs_url: string (nullable = true)\n",
      " |    |    |    |    |-- git_tags_url: string (nullable = true)\n",
      " |    |    |    |    |-- git_url: string (nullable = true)\n",
      " |    |    |    |    |-- has_downloads: boolean (nullable = true)\n",
      " |    |    |    |    |-- has_issues: boolean (nullable = true)\n",
      " |    |    |    |    |-- has_pages: boolean (nullable = true)\n",
      " |    |    |    |    |-- has_wiki: boolean (nullable = true)\n",
      " |    |    |    |    |-- homepage: string (nullable = true)\n",
      " |    |    |    |    |-- hooks_url: string (nullable = true)\n",
      " |    |    |    |    |-- html_url: string (nullable = true)\n",
      " |    |    |    |    |-- id: long (nullable = true)\n",
      " |    |    |    |    |-- issue_comment_url: string (nullable = true)\n",
      " |    |    |    |    |-- issue_events_url: string (nullable = true)\n",
      " |    |    |    |    |-- issues_url: string (nullable = true)\n",
      " |    |    |    |    |-- keys_url: string (nullable = true)\n",
      " |    |    |    |    |-- labels_url: string (nullable = true)\n",
      " |    |    |    |    |-- language: string (nullable = true)\n",
      " |    |    |    |    |-- languages_url: string (nullable = true)\n",
      " |    |    |    |    |-- merges_url: string (nullable = true)\n",
      " |    |    |    |    |-- milestones_url: string (nullable = true)\n",
      " |    |    |    |    |-- mirror_url: string (nullable = true)\n",
      " |    |    |    |    |-- name: string (nullable = true)\n",
      " |    |    |    |    |-- notifications_url: string (nullable = true)\n",
      " |    |    |    |    |-- open_issues: long (nullable = true)\n",
      " |    |    |    |    |-- open_issues_count: long (nullable = true)\n",
      " |    |    |    |    |-- owner: struct (nullable = true)\n",
      " |    |    |    |    |    |-- avatar_url: string (nullable = true)\n",
      " |    |    |    |    |    |-- events_url: string (nullable = true)\n",
      " |    |    |    |    |    |-- followers_url: string (nullable = true)\n",
      " |    |    |    |    |    |-- following_url: string (nullable = true)\n",
      " |    |    |    |    |    |-- gists_url: string (nullable = true)\n",
      " |    |    |    |    |    |-- gravatar_id: string (nullable = true)\n",
      " |    |    |    |    |    |-- html_url: string (nullable = true)\n",
      " |    |    |    |    |    |-- id: long (nullable = true)\n",
      " |    |    |    |    |    |-- login: string (nullable = true)\n",
      " |    |    |    |    |    |-- organizations_url: string (nullable = true)\n",
      " |    |    |    |    |    |-- received_events_url: string (nullable = true)\n",
      " |    |    |    |    |    |-- repos_url: string (nullable = true)\n",
      " |    |    |    |    |    |-- site_admin: boolean (nullable = true)\n",
      " |    |    |    |    |    |-- starred_url: string (nullable = true)\n",
      " |    |    |    |    |    |-- subscriptions_url: string (nullable = true)\n",
      " |    |    |    |    |    |-- type: string (nullable = true)\n",
      " |    |    |    |    |    |-- url: string (nullable = true)\n",
      " |    |    |    |    |-- private: boolean (nullable = true)\n",
      " |    |    |    |    |-- pulls_url: string (nullable = true)\n",
      " |    |    |    |    |-- pushed_at: string (nullable = true)\n",
      " |    |    |    |    |-- releases_url: string (nullable = true)\n",
      " |    |    |    |    |-- size: long (nullable = true)\n",
      " |    |    |    |    |-- ssh_url: string (nullable = true)\n",
      " |    |    |    |    |-- stargazers_count: long (nullable = true)\n",
      " |    |    |    |    |-- stargazers_url: string (nullable = true)\n",
      " |    |    |    |    |-- statuses_url: string (nullable = true)\n",
      " |    |    |    |    |-- subscribers_url: string (nullable = true)\n",
      " |    |    |    |    |-- subscription_url: string (nullable = true)\n",
      " |    |    |    |    |-- svn_url: string (nullable = true)\n",
      " |    |    |    |    |-- tags_url: string (nullable = true)\n",
      " |    |    |    |    |-- teams_url: string (nullable = true)\n",
      " |    |    |    |    |-- trees_url: string (nullable = true)\n",
      " |    |    |    |    |-- updated_at: string (nullable = true)\n",
      " |    |    |    |    |-- url: string (nullable = true)\n",
      " |    |    |    |    |-- watchers: long (nullable = true)\n",
      " |    |    |    |    |-- watchers_count: long (nullable = true)\n",
      " |    |    |    |-- sha: string (nullable = true)\n",
      " |    |    |    |-- user: struct (nullable = true)\n",
      " |    |    |    |    |-- avatar_url: string (nullable = true)\n",
      " |    |    |    |    |-- events_url: string (nullable = true)\n",
      " |    |    |    |    |-- followers_url: string (nullable = true)\n",
      " |    |    |    |    |-- following_url: string (nullable = true)\n",
      " |    |    |    |    |-- gists_url: string (nullable = true)\n",
      " |    |    |    |    |-- gravatar_id: string (nullable = true)\n",
      " |    |    |    |    |-- html_url: string (nullable = true)\n",
      " |    |    |    |    |-- id: long (nullable = true)\n",
      " |    |    |    |    |-- login: string (nullable = true)\n",
      " |    |    |    |    |-- organizations_url: string (nullable = true)\n",
      " |    |    |    |    |-- received_events_url: string (nullable = true)\n",
      " |    |    |    |    |-- repos_url: string (nullable = true)\n",
      " |    |    |    |    |-- site_admin: boolean (nullable = true)\n",
      " |    |    |    |    |-- starred_url: string (nullable = true)\n",
      " |    |    |    |    |-- subscriptions_url: string (nullable = true)\n",
      " |    |    |    |    |-- type: string (nullable = true)\n",
      " |    |    |    |    |-- url: string (nullable = true)\n",
      " |    |    |-- body: string (nullable = true)\n",
      " |    |    |-- changed_files: long (nullable = true)\n",
      " |    |    |-- closed_at: string (nullable = true)\n",
      " |    |    |-- comments: long (nullable = true)\n",
      " |    |    |-- comments_url: string (nullable = true)\n",
      " |    |    |-- commits: long (nullable = true)\n",
      " |    |    |-- commits_url: string (nullable = true)\n",
      " |    |    |-- created_at: string (nullable = true)\n",
      " |    |    |-- deletions: long (nullable = true)\n",
      " |    |    |-- diff_url: string (nullable = true)\n",
      " |    |    |-- head: struct (nullable = true)\n",
      " |    |    |    |-- label: string (nullable = true)\n",
      " |    |    |    |-- ref: string (nullable = true)\n",
      " |    |    |    |-- repo: struct (nullable = true)\n",
      " |    |    |    |    |-- archive_url: string (nullable = true)\n",
      " |    |    |    |    |-- assignees_url: string (nullable = true)\n",
      " |    |    |    |    |-- blobs_url: string (nullable = true)\n",
      " |    |    |    |    |-- branches_url: string (nullable = true)\n",
      " |    |    |    |    |-- clone_url: string (nullable = true)\n",
      " |    |    |    |    |-- collaborators_url: string (nullable = true)\n",
      " |    |    |    |    |-- comments_url: string (nullable = true)\n",
      " |    |    |    |    |-- commits_url: string (nullable = true)\n",
      " |    |    |    |    |-- compare_url: string (nullable = true)\n",
      " |    |    |    |    |-- contents_url: string (nullable = true)\n",
      " |    |    |    |    |-- contributors_url: string (nullable = true)\n",
      " |    |    |    |    |-- created_at: string (nullable = true)\n",
      " |    |    |    |    |-- default_branch: string (nullable = true)\n",
      " |    |    |    |    |-- description: string (nullable = true)\n",
      " |    |    |    |    |-- downloads_url: string (nullable = true)\n",
      " |    |    |    |    |-- events_url: string (nullable = true)\n",
      " |    |    |    |    |-- fork: boolean (nullable = true)\n",
      " |    |    |    |    |-- forks: long (nullable = true)\n",
      " |    |    |    |    |-- forks_count: long (nullable = true)\n",
      " |    |    |    |    |-- forks_url: string (nullable = true)\n",
      " |    |    |    |    |-- full_name: string (nullable = true)\n",
      " |    |    |    |    |-- git_commits_url: string (nullable = true)\n",
      " |    |    |    |    |-- git_refs_url: string (nullable = true)\n",
      " |    |    |    |    |-- git_tags_url: string (nullable = true)\n",
      " |    |    |    |    |-- git_url: string (nullable = true)\n",
      " |    |    |    |    |-- has_downloads: boolean (nullable = true)\n",
      " |    |    |    |    |-- has_issues: boolean (nullable = true)\n",
      " |    |    |    |    |-- has_pages: boolean (nullable = true)\n",
      " |    |    |    |    |-- has_wiki: boolean (nullable = true)\n",
      " |    |    |    |    |-- homepage: string (nullable = true)\n",
      " |    |    |    |    |-- hooks_url: string (nullable = true)\n",
      " |    |    |    |    |-- html_url: string (nullable = true)\n",
      " |    |    |    |    |-- id: long (nullable = true)\n",
      " |    |    |    |    |-- issue_comment_url: string (nullable = true)\n",
      " |    |    |    |    |-- issue_events_url: string (nullable = true)\n",
      " |    |    |    |    |-- issues_url: string (nullable = true)\n",
      " |    |    |    |    |-- keys_url: string (nullable = true)\n",
      " |    |    |    |    |-- labels_url: string (nullable = true)\n",
      " |    |    |    |    |-- language: string (nullable = true)\n",
      " |    |    |    |    |-- languages_url: string (nullable = true)\n",
      " |    |    |    |    |-- merges_url: string (nullable = true)\n",
      " |    |    |    |    |-- milestones_url: string (nullable = true)\n",
      " |    |    |    |    |-- mirror_url: string (nullable = true)\n",
      " |    |    |    |    |-- name: string (nullable = true)\n",
      " |    |    |    |    |-- notifications_url: string (nullable = true)\n",
      " |    |    |    |    |-- open_issues: long (nullable = true)\n",
      " |    |    |    |    |-- open_issues_count: long (nullable = true)\n",
      " |    |    |    |    |-- owner: struct (nullable = true)\n",
      " |    |    |    |    |    |-- avatar_url: string (nullable = true)\n",
      " |    |    |    |    |    |-- events_url: string (nullable = true)\n",
      " |    |    |    |    |    |-- followers_url: string (nullable = true)\n",
      " |    |    |    |    |    |-- following_url: string (nullable = true)\n",
      " |    |    |    |    |    |-- gists_url: string (nullable = true)\n",
      " |    |    |    |    |    |-- gravatar_id: string (nullable = true)\n",
      " |    |    |    |    |    |-- html_url: string (nullable = true)\n",
      " |    |    |    |    |    |-- id: long (nullable = true)\n",
      " |    |    |    |    |    |-- login: string (nullable = true)\n",
      " |    |    |    |    |    |-- organizations_url: string (nullable = true)\n",
      " |    |    |    |    |    |-- received_events_url: string (nullable = true)\n",
      " |    |    |    |    |    |-- repos_url: string (nullable = true)\n",
      " |    |    |    |    |    |-- site_admin: boolean (nullable = true)\n",
      " |    |    |    |    |    |-- starred_url: string (nullable = true)\n",
      " |    |    |    |    |    |-- subscriptions_url: string (nullable = true)\n",
      " |    |    |    |    |    |-- type: string (nullable = true)\n",
      " |    |    |    |    |    |-- url: string (nullable = true)\n",
      " |    |    |    |    |-- private: boolean (nullable = true)\n",
      " |    |    |    |    |-- pulls_url: string (nullable = true)\n",
      " |    |    |    |    |-- pushed_at: string (nullable = true)\n",
      " |    |    |    |    |-- releases_url: string (nullable = true)\n",
      " |    |    |    |    |-- size: long (nullable = true)\n",
      " |    |    |    |    |-- ssh_url: string (nullable = true)\n",
      " |    |    |    |    |-- stargazers_count: long (nullable = true)\n",
      " |    |    |    |    |-- stargazers_url: string (nullable = true)\n",
      " |    |    |    |    |-- statuses_url: string (nullable = true)\n",
      " |    |    |    |    |-- subscribers_url: string (nullable = true)\n",
      " |    |    |    |    |-- subscription_url: string (nullable = true)\n",
      " |    |    |    |    |-- svn_url: string (nullable = true)\n",
      " |    |    |    |    |-- tags_url: string (nullable = true)\n",
      " |    |    |    |    |-- teams_url: string (nullable = true)\n",
      " |    |    |    |    |-- trees_url: string (nullable = true)\n",
      " |    |    |    |    |-- updated_at: string (nullable = true)\n",
      " |    |    |    |    |-- url: string (nullable = true)\n",
      " |    |    |    |    |-- watchers: long (nullable = true)\n",
      " |    |    |    |    |-- watchers_count: long (nullable = true)\n",
      " |    |    |    |-- sha: string (nullable = true)\n",
      " |    |    |    |-- user: struct (nullable = true)\n",
      " |    |    |    |    |-- avatar_url: string (nullable = true)\n",
      " |    |    |    |    |-- events_url: string (nullable = true)\n",
      " |    |    |    |    |-- followers_url: string (nullable = true)\n",
      " |    |    |    |    |-- following_url: string (nullable = true)\n",
      " |    |    |    |    |-- gists_url: string (nullable = true)\n",
      " |    |    |    |    |-- gravatar_id: string (nullable = true)\n",
      " |    |    |    |    |-- html_url: string (nullable = true)\n",
      " |    |    |    |    |-- id: long (nullable = true)\n",
      " |    |    |    |    |-- login: string (nullable = true)\n",
      " |    |    |    |    |-- organizations_url: string (nullable = true)\n",
      " |    |    |    |    |-- received_events_url: string (nullable = true)\n",
      " |    |    |    |    |-- repos_url: string (nullable = true)\n",
      " |    |    |    |    |-- site_admin: boolean (nullable = true)\n",
      " |    |    |    |    |-- starred_url: string (nullable = true)\n",
      " |    |    |    |    |-- subscriptions_url: string (nullable = true)\n",
      " |    |    |    |    |-- type: string (nullable = true)\n",
      " |    |    |    |    |-- url: string (nullable = true)\n",
      " |    |    |-- html_url: string (nullable = true)\n",
      " |    |    |-- id: long (nullable = true)\n",
      " |    |    |-- issue_url: string (nullable = true)\n",
      " |    |    |-- locked: boolean (nullable = true)\n",
      " |    |    |-- merge_commit_sha: string (nullable = true)\n",
      " |    |    |-- mergeable: boolean (nullable = true)\n",
      " |    |    |-- mergeable_state: string (nullable = true)\n",
      " |    |    |-- merged: boolean (nullable = true)\n",
      " |    |    |-- merged_at: string (nullable = true)\n",
      " |    |    |-- merged_by: struct (nullable = true)\n",
      " |    |    |    |-- avatar_url: string (nullable = true)\n",
      " |    |    |    |-- events_url: string (nullable = true)\n",
      " |    |    |    |-- followers_url: string (nullable = true)\n",
      " |    |    |    |-- following_url: string (nullable = true)\n",
      " |    |    |    |-- gists_url: string (nullable = true)\n",
      " |    |    |    |-- gravatar_id: string (nullable = true)\n",
      " |    |    |    |-- html_url: string (nullable = true)\n",
      " |    |    |    |-- id: long (nullable = true)\n",
      " |    |    |    |-- login: string (nullable = true)\n",
      " |    |    |    |-- organizations_url: string (nullable = true)\n",
      " |    |    |    |-- received_events_url: string (nullable = true)\n",
      " |    |    |    |-- repos_url: string (nullable = true)\n",
      " |    |    |    |-- site_admin: boolean (nullable = true)\n",
      " |    |    |    |-- starred_url: string (nullable = true)\n",
      " |    |    |    |-- subscriptions_url: string (nullable = true)\n",
      " |    |    |    |-- type: string (nullable = true)\n",
      " |    |    |    |-- url: string (nullable = true)\n",
      " |    |    |-- milestone: struct (nullable = true)\n",
      " |    |    |    |-- closed_at: string (nullable = true)\n",
      " |    |    |    |-- closed_issues: long (nullable = true)\n",
      " |    |    |    |-- created_at: string (nullable = true)\n",
      " |    |    |    |-- creator: struct (nullable = true)\n",
      " |    |    |    |    |-- avatar_url: string (nullable = true)\n",
      " |    |    |    |    |-- events_url: string (nullable = true)\n",
      " |    |    |    |    |-- followers_url: string (nullable = true)\n",
      " |    |    |    |    |-- following_url: string (nullable = true)\n",
      " |    |    |    |    |-- gists_url: string (nullable = true)\n",
      " |    |    |    |    |-- gravatar_id: string (nullable = true)\n",
      " |    |    |    |    |-- html_url: string (nullable = true)\n",
      " |    |    |    |    |-- id: long (nullable = true)\n",
      " |    |    |    |    |-- login: string (nullable = true)\n",
      " |    |    |    |    |-- organizations_url: string (nullable = true)\n",
      " |    |    |    |    |-- received_events_url: string (nullable = true)\n",
      " |    |    |    |    |-- repos_url: string (nullable = true)\n",
      " |    |    |    |    |-- site_admin: boolean (nullable = true)\n",
      " |    |    |    |    |-- starred_url: string (nullable = true)\n",
      " |    |    |    |    |-- subscriptions_url: string (nullable = true)\n",
      " |    |    |    |    |-- type: string (nullable = true)\n",
      " |    |    |    |    |-- url: string (nullable = true)\n",
      " |    |    |    |-- description: string (nullable = true)\n",
      " |    |    |    |-- due_on: string (nullable = true)\n",
      " |    |    |    |-- id: long (nullable = true)\n",
      " |    |    |    |-- labels_url: string (nullable = true)\n",
      " |    |    |    |-- number: long (nullable = true)\n",
      " |    |    |    |-- open_issues: long (nullable = true)\n",
      " |    |    |    |-- state: string (nullable = true)\n",
      " |    |    |    |-- title: string (nullable = true)\n",
      " |    |    |    |-- updated_at: string (nullable = true)\n",
      " |    |    |    |-- url: string (nullable = true)\n",
      " |    |    |-- number: long (nullable = true)\n",
      " |    |    |-- patch_url: string (nullable = true)\n",
      " |    |    |-- review_comment_url: string (nullable = true)\n",
      " |    |    |-- review_comments: long (nullable = true)\n",
      " |    |    |-- review_comments_url: string (nullable = true)\n",
      " |    |    |-- state: string (nullable = true)\n",
      " |    |    |-- statuses_url: string (nullable = true)\n",
      " |    |    |-- title: string (nullable = true)\n",
      " |    |    |-- updated_at: string (nullable = true)\n",
      " |    |    |-- url: string (nullable = true)\n",
      " |    |    |-- user: struct (nullable = true)\n",
      " |    |    |    |-- avatar_url: string (nullable = true)\n",
      " |    |    |    |-- events_url: string (nullable = true)\n",
      " |    |    |    |-- followers_url: string (nullable = true)\n",
      " |    |    |    |-- following_url: string (nullable = true)\n",
      " |    |    |    |-- gists_url: string (nullable = true)\n",
      " |    |    |    |-- gravatar_id: string (nullable = true)\n",
      " |    |    |    |-- html_url: string (nullable = true)\n",
      " |    |    |    |-- id: long (nullable = true)\n",
      " |    |    |    |-- login: string (nullable = true)\n",
      " |    |    |    |-- organizations_url: string (nullable = true)\n",
      " |    |    |    |-- received_events_url: string (nullable = true)\n",
      " |    |    |    |-- repos_url: string (nullable = true)\n",
      " |    |    |    |-- site_admin: boolean (nullable = true)\n",
      " |    |    |    |-- starred_url: string (nullable = true)\n",
      " |    |    |    |-- subscriptions_url: string (nullable = true)\n",
      " |    |    |    |-- type: string (nullable = true)\n",
      " |    |    |    |-- url: string (nullable = true)\n",
      " |    |-- push_id: long (nullable = true)\n",
      " |    |-- pusher_type: string (nullable = true)\n",
      " |    |-- ref: string (nullable = true)\n",
      " |    |-- ref_type: string (nullable = true)\n",
      " |    |-- release: struct (nullable = true)\n",
      " |    |    |-- assets: array (nullable = true)\n",
      " |    |    |    |-- element: struct (containsNull = true)\n",
      " |    |    |    |    |-- browser_download_url: string (nullable = true)\n",
      " |    |    |    |    |-- content_type: string (nullable = true)\n",
      " |    |    |    |    |-- created_at: string (nullable = true)\n",
      " |    |    |    |    |-- download_count: long (nullable = true)\n",
      " |    |    |    |    |-- id: long (nullable = true)\n",
      " |    |    |    |    |-- label: string (nullable = true)\n",
      " |    |    |    |    |-- name: string (nullable = true)\n",
      " |    |    |    |    |-- size: long (nullable = true)\n",
      " |    |    |    |    |-- state: string (nullable = true)\n",
      " |    |    |    |    |-- updated_at: string (nullable = true)\n",
      " |    |    |    |    |-- uploader: struct (nullable = true)\n",
      " |    |    |    |    |    |-- avatar_url: string (nullable = true)\n",
      " |    |    |    |    |    |-- events_url: string (nullable = true)\n",
      " |    |    |    |    |    |-- followers_url: string (nullable = true)\n",
      " |    |    |    |    |    |-- following_url: string (nullable = true)\n",
      " |    |    |    |    |    |-- gists_url: string (nullable = true)\n",
      " |    |    |    |    |    |-- gravatar_id: string (nullable = true)\n",
      " |    |    |    |    |    |-- html_url: string (nullable = true)\n",
      " |    |    |    |    |    |-- id: long (nullable = true)\n",
      " |    |    |    |    |    |-- login: string (nullable = true)\n",
      " |    |    |    |    |    |-- organizations_url: string (nullable = true)\n",
      " |    |    |    |    |    |-- received_events_url: string (nullable = true)\n",
      " |    |    |    |    |    |-- repos_url: string (nullable = true)\n",
      " |    |    |    |    |    |-- site_admin: boolean (nullable = true)\n",
      " |    |    |    |    |    |-- starred_url: string (nullable = true)\n",
      " |    |    |    |    |    |-- subscriptions_url: string (nullable = true)\n",
      " |    |    |    |    |    |-- type: string (nullable = true)\n",
      " |    |    |    |    |    |-- url: string (nullable = true)\n",
      " |    |    |    |    |-- url: string (nullable = true)\n",
      " |    |    |-- assets_url: string (nullable = true)\n",
      " |    |    |-- author: struct (nullable = true)\n",
      " |    |    |    |-- avatar_url: string (nullable = true)\n",
      " |    |    |    |-- events_url: string (nullable = true)\n",
      " |    |    |    |-- followers_url: string (nullable = true)\n",
      " |    |    |    |-- following_url: string (nullable = true)\n",
      " |    |    |    |-- gists_url: string (nullable = true)\n",
      " |    |    |    |-- gravatar_id: string (nullable = true)\n",
      " |    |    |    |-- html_url: string (nullable = true)\n",
      " |    |    |    |-- id: long (nullable = true)\n",
      " |    |    |    |-- login: string (nullable = true)\n",
      " |    |    |    |-- organizations_url: string (nullable = true)\n",
      " |    |    |    |-- received_events_url: string (nullable = true)\n",
      " |    |    |    |-- repos_url: string (nullable = true)\n",
      " |    |    |    |-- site_admin: boolean (nullable = true)\n",
      " |    |    |    |-- starred_url: string (nullable = true)\n",
      " |    |    |    |-- subscriptions_url: string (nullable = true)\n",
      " |    |    |    |-- type: string (nullable = true)\n",
      " |    |    |    |-- url: string (nullable = true)\n",
      " |    |    |-- body: string (nullable = true)\n",
      " |    |    |-- created_at: string (nullable = true)\n",
      " |    |    |-- draft: boolean (nullable = true)\n",
      " |    |    |-- html_url: string (nullable = true)\n",
      " |    |    |-- id: long (nullable = true)\n",
      " |    |    |-- name: string (nullable = true)\n",
      " |    |    |-- prerelease: boolean (nullable = true)\n",
      " |    |    |-- published_at: string (nullable = true)\n",
      " |    |    |-- tag_name: string (nullable = true)\n",
      " |    |    |-- tarball_url: string (nullable = true)\n",
      " |    |    |-- target_commitish: string (nullable = true)\n",
      " |    |    |-- upload_url: string (nullable = true)\n",
      " |    |    |-- url: string (nullable = true)\n",
      " |    |    |-- zipball_url: string (nullable = true)\n",
      " |    |-- size: long (nullable = true)\n",
      " |-- public: boolean (nullable = true)\n",
      " |-- repo: struct (nullable = true)\n",
      " |    |-- id: long (nullable = true)\n",
      " |    |-- name: string (nullable = true)\n",
      " |    |-- url: string (nullable = true)\n",
      " |-- type: string (nullable = true)\n",
      "\n"
     ]
    }
   ],
   "source": [
    "janData.printSchema()"
   ]
  },
  {
   "cell_type": "markdown",
   "metadata": {},
   "source": [
    "# Filter Data\n",
    "We have a lot of extra information in our data set right now.\n",
    "\n",
    "Let's get rid of everything except event information, the user generating that event, and the repository involved."
   ]
  },
  {
   "cell_type": "code",
   "execution_count": 5,
   "metadata": {
    "collapsed": false
   },
   "outputs": [],
   "source": [
    "jan = janData.select(janData['actor'],janData['repo'],janData['type'])"
   ]
  },
  {
   "cell_type": "code",
   "execution_count": 6,
   "metadata": {
    "collapsed": false
   },
   "outputs": [],
   "source": [
    "jan = jan.filter(jan['type']=='WatchEvent')"
   ]
  },
  {
   "cell_type": "code",
   "execution_count": 7,
   "metadata": {
    "collapsed": false
   },
   "outputs": [
    {
     "data": {
      "text/plain": [
       "Row(actor=Row(avatar_url='https://avatars.githubusercontent.com/u/642929?', gravatar_id='', id=642929, login='jchristi', url='https://api.github.com/users/jchristi'), repo=Row(id=18297319, name='LinuxStandardBase/lsb', url='https://api.github.com/repos/LinuxStandardBase/lsb'), type='WatchEvent')"
      ]
     },
     "execution_count": 7,
     "metadata": {},
     "output_type": "execute_result"
    }
   ],
   "source": [
    "jan.first()"
   ]
  },
  {
   "cell_type": "markdown",
   "metadata": {},
   "source": [
    "# Organize Data\n",
    "\n",
    "Our data is a DataFrame of \"Rows\" right now, let's create an RDD of key-value pairs instead. This will remove extraneous data, as well as help us to understand the data we're working with.\n",
    "\n",
    "**Key:** User(name, id)  \n",
    "**Value:** Repo(name, id)"
   ]
  },
  {
   "cell_type": "code",
   "execution_count": 8,
   "metadata": {
    "collapsed": true
   },
   "outputs": [],
   "source": [
    "from collections import namedtuple"
   ]
  },
  {
   "cell_type": "code",
   "execution_count": 9,
   "metadata": {
    "collapsed": true
   },
   "outputs": [],
   "source": [
    "User = namedtuple('User', 'name id')\n",
    "Repo = namedtuple('Repo', 'name id')"
   ]
  },
  {
   "cell_type": "code",
   "execution_count": 10,
   "metadata": {
    "collapsed": true
   },
   "outputs": [],
   "source": [
    "def create_user(row):\n",
    "    actor = row['actor']\n",
    "    return User(actor.login,actor.id)\n",
    "\n",
    "def create_repo(row):\n",
    "    repo = row['repo']\n",
    "    return Repo(repo.name,repo.id)"
   ]
  },
  {
   "cell_type": "code",
   "execution_count": 11,
   "metadata": {
    "collapsed": true
   },
   "outputs": [],
   "source": [
    "jan = jan.map(lambda row: (create_user(row),create_repo(row)))"
   ]
  },
  {
   "cell_type": "code",
   "execution_count": 12,
   "metadata": {
    "collapsed": false
   },
   "outputs": [
    {
     "data": {
      "text/plain": [
       "(User(name='jchristi', id=642929),\n",
       " Repo(name='LinuxStandardBase/lsb', id=18297319))"
      ]
     },
     "execution_count": 12,
     "metadata": {},
     "output_type": "execute_result"
    }
   ],
   "source": [
    "jan.first()"
   ]
  },
  {
   "cell_type": "markdown",
   "metadata": {
    "collapsed": true
   },
   "source": [
    "# Create Ratings\n",
    "\n",
    "We've organized our data into an RDD, now let's go ahead and create an RDD of type `Rating` from the [Spark MLlib Recommendation module](https://spark.apache.org/docs/latest/mllib-collaborative-filtering.html).\n",
    "\n",
    "**Rating(user, repo, rating)**"
   ]
  },
  {
   "cell_type": "code",
   "execution_count": 13,
   "metadata": {
    "collapsed": true
   },
   "outputs": [],
   "source": [
    "from pyspark.mllib.recommendation import Rating \n",
    "\n",
    "def create_rating(user_repo):\n",
    "    user = user_repo[0]\n",
    "    repo = user_repo[1]\n",
    "    return Rating(user.id, repo.id, 1)"
   ]
  },
  {
   "cell_type": "code",
   "execution_count": 14,
   "metadata": {
    "collapsed": true
   },
   "outputs": [],
   "source": [
    "ratings = jan.map(lambda user_repo: create_rating(user_repo))"
   ]
  },
  {
   "cell_type": "code",
   "execution_count": 15,
   "metadata": {
    "collapsed": false
   },
   "outputs": [
    {
     "data": {
      "text/plain": [
       "Rating(user=642929, product=18297319, rating=1.0)"
      ]
     },
     "execution_count": 15,
     "metadata": {},
     "output_type": "execute_result"
    }
   ],
   "source": [
    "ratings.first()"
   ]
  },
  {
   "cell_type": "markdown",
   "metadata": {
    "collapsed": true
   },
   "source": [
    "# Train/Load a Model\n",
    "\n",
    "We've built an RDD of type Rating. We'll use this collection to create a model. If one already exists, we'll load it instead.\n",
    "\n",
    "This model will be built using a technique called [collaborative filtering](https://spark.apache.org/docs/latest/mllib-collaborative-filtering.html). The specific algorithm that Spark uses is known as [alternating least squares](https://bugra.github.io/work/notes/2014-04-19/alternating-least-squares-method-for-collaborative-filtering/).\n",
    "\n",
    "Our data does not contain explicit feedback by the user (ratings).\n",
    "Our data does contain implicit feedback by the user (Stars)."
   ]
  },
  {
   "cell_type": "code",
   "execution_count": 88,
   "metadata": {
    "collapsed": true
   },
   "outputs": [],
   "source": [
    "from pyspark.mllib.recommendation import ALS, MatrixFactorizationModel\n",
    "import os.path"
   ]
  },
  {
   "cell_type": "code",
   "execution_count": 89,
   "metadata": {
    "collapsed": true
   },
   "outputs": [],
   "source": [
    "rank = 5"
   ]
  },
  {
   "cell_type": "code",
   "execution_count": 97,
   "metadata": {
    "collapsed": false
   },
   "outputs": [],
   "source": [
    "model = None\n",
    "model_path = '../models/january-implicit.mdl'\n",
    "if os.path.exists(model_path):\n",
    "    print('Loading model...')\n",
    "    model = MatrixFactorizationModel.load(sc, model_path)\n",
    "    print('Model loaded successfully!')\n",
    "else:\n",
    "    print('Training model...')\n",
    "    model = ALS.trainImplicit(ratings, rank, seed=0)\n",
    "    print('Model trained successfully!')"
   ]
  },
  {
   "cell_type": "markdown",
   "metadata": {
    "collapsed": true
   },
   "source": [
    "# Evaluate the Model\n",
    "\n",
    "We need to evaluate the reliability of our model. We can use cross-validation to determine how accurately our model would predict ratings. This is done by dividing our data set into distinct groups, generally a [training set, validation set, and test set](https://stackoverflow.com/questions/2976452/whats-is-the-difference-between-train-validation-and-test-set-in-neural-networ).  \n",
    "\n",
    "We want to avoid things like overfitting. "
   ]
  },
  {
   "cell_type": "code",
   "execution_count": 22,
   "metadata": {
    "collapsed": true
   },
   "outputs": [],
   "source": [
    "# TODO:: Evaluate the model."
   ]
  },
  {
   "cell_type": "markdown",
   "metadata": {},
   "source": [
    "# Save the Model\n",
    "Training a model can take a *long* time. Let's save what we've done so we don't lose it later."
   ]
  },
  {
   "cell_type": "code",
   "execution_count": 98,
   "metadata": {
    "collapsed": false
   },
   "outputs": [],
   "source": [
    "if not os.path.exists(model_path):\n",
    "    model.save(sc, model_path)"
   ]
  },
  {
   "cell_type": "markdown",
   "metadata": {},
   "source": [
    "# Generate Results\n",
    "\n",
    "Let's generate some results with our recommendation engine!"
   ]
  },
  {
   "cell_type": "code",
   "execution_count": 99,
   "metadata": {
    "collapsed": true
   },
   "outputs": [],
   "source": [
    "# Some helper RDDs/functions to find users and repos.\n",
    "repos = jan.map(lambda x: x[1]).distinct().cache()\n",
    "users = jan.map(lambda x: x[0]).distinct().cache()\n",
    "\n",
    "def find_repo(name=None, id=None):\n",
    "    if name is not None:\n",
    "        return repos.filter(lambda repo: repo.name==name).first()\n",
    "    if id is not None:\n",
    "        return repos.filter(lambda repo: repo.id==id).first()\n",
    "\n",
    "def find_user(name=None, id=None):\n",
    "    if name is not None:\n",
    "        return users.filter(lambda user: user.name==name).first()\n",
    "    if id is not None:\n",
    "        return users.filter(lambda user: user.id==id).first()"
   ]
  },
  {
   "cell_type": "code",
   "execution_count": 132,
   "metadata": {
    "collapsed": true
   },
   "outputs": [],
   "source": [
    "# Find the user 'nathanph'.\n",
    "user = find_user('nathanph')"
   ]
  },
  {
   "cell_type": "code",
   "execution_count": 133,
   "metadata": {
    "collapsed": false
   },
   "outputs": [],
   "source": [
    "# Generate some recommendations for our user.\n",
    "recommendations = model.recommendProducts(user.id, 5)\n",
    "recommendations = list(map(lambda recommendation: (recommendation, find_repo(id=recommendation.product)), recommendations))"
   ]
  },
  {
   "cell_type": "code",
   "execution_count": 134,
   "metadata": {
    "collapsed": false
   },
   "outputs": [
    {
     "data": {
      "text/plain": [
       "[(Rating(user=6075916, product=14194174, rating=1.3045169899444473),\n",
       "  Repo(name='alex/what-happens-when', id=14194174)),\n",
       " (Rating(user=6075916, product=29247444, rating=0.7145092051705337),\n",
       "  Repo(name='yaronn/blessed-contrib', id=29247444)),\n",
       " (Rating(user=6075916, product=29370487, rating=0.22522412526986302),\n",
       "  Repo(name='thoughtbot/til', id=29370487)),\n",
       " (Rating(user=6075916, product=18708860, rating=0.1596436791884901),\n",
       "  Repo(name='tiimgreen/github-cheat-sheet', id=18708860)),\n",
       " (Rating(user=6075916, product=28751632, rating=0.13833889059264798),\n",
       "  Repo(name='0xAX/linux-insides', id=28751632))]"
      ]
     },
     "execution_count": 134,
     "metadata": {},
     "output_type": "execute_result"
    }
   ],
   "source": [
    "recommendations"
   ]
  },
  {
   "cell_type": "code",
   "execution_count": 135,
   "metadata": {
    "collapsed": false
   },
   "outputs": [],
   "source": [
    "# Find what repos the user has starred.\n",
    "stars = jan.filter(lambda star: star[0].name==user.name)\n",
    "stars = stars.map(lambda star: star[1]).collect()"
   ]
  },
  {
   "cell_type": "code",
   "execution_count": 136,
   "metadata": {
    "collapsed": false
   },
   "outputs": [
    {
     "data": {
      "text/plain": [
       "[Repo(name='ianks/octodown', id=28029170),\n",
       " Repo(name='MaciejCzyzewski/retter', id=16251363),\n",
       " Repo(name='jbenet/ipfs', id=16722900),\n",
       " Repo(name='jonjonsonjr/dotfiles', id=21444162),\n",
       " Repo(name='cleebp/asubus-ios', id=18974837),\n",
       " Repo(name='alex/what-happens-when', id=14194174),\n",
       " Repo(name='alex/what-happens-when', id=14194174),\n",
       " Repo(name='tiimgreen/github-cheat-sheet', id=18708860),\n",
       " Repo(name='namecoin/namecoin', id=2459724),\n",
       " Repo(name='mbcrawfo/undergrad-thesis', id=29548556),\n",
       " Repo(name='jmoon018/PacVim', id=26992831)]"
      ]
     },
     "execution_count": 136,
     "metadata": {},
     "output_type": "execute_result"
    }
   ],
   "source": [
    "stars"
   ]
  },
  {
   "cell_type": "code",
   "execution_count": 137,
   "metadata": {
    "collapsed": false
   },
   "outputs": [
    {
     "data": {
      "text/plain": [
       "[Repo(name='yaronn/blessed-contrib', id=29247444),\n",
       " Repo(name='thoughtbot/til', id=29370487),\n",
       " Repo(name='0xAX/linux-insides', id=28751632)]"
      ]
     },
     "execution_count": 137,
     "metadata": {},
     "output_type": "execute_result"
    }
   ],
   "source": [
    "# Only display the recommended repos that the user has not already starred.\n",
    "relevant_recommendations = list(filter(lambda recommendation: recommendation[1] not in stars, recommendations))\n",
    "relevant_recommendations = list(map(lambda recommendation: recommendation[1], relevant_recommendations))\n",
    "relevant_recommendations"
   ]
  },
  {
   "cell_type": "code",
   "execution_count": 138,
   "metadata": {
    "collapsed": false
   },
   "outputs": [
    {
     "name": "stdout",
     "output_type": "stream",
     "text": [
      "http://github.com/yaronn/blessed-contrib\n",
      "http://github.com/thoughtbot/til\n",
      "http://github.com/0xAX/linux-insides\n"
     ]
    }
   ],
   "source": [
    "# Print some hyperlinks.\n",
    "_ = [print(url) for url in list(map(lambda repo: 'http://github.com/'+repo.name, relevant_recommendations))]"
   ]
  },
  {
   "cell_type": "code",
   "execution_count": null,
   "metadata": {
    "collapsed": true
   },
   "outputs": [],
   "source": []
  }
 ],
 "metadata": {
  "kernelspec": {
   "display_name": "Python 3",
   "language": "python",
   "name": "python3"
  },
  "language_info": {
   "codemirror_mode": {
    "name": "ipython",
    "version": 3
   },
   "file_extension": ".py",
   "mimetype": "text/x-python",
   "name": "python",
   "nbconvert_exporter": "python",
   "pygments_lexer": "ipython3",
   "version": "3.5.1"
  }
 },
 "nbformat": 4,
 "nbformat_minor": 0
}
